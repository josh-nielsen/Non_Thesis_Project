{
 "cells": [
  {
   "cell_type": "markdown",
   "metadata": {},
   "source": [
    "# Surface Analysis \n",
    "\n",
    "Script is written so date, time, and location input can be taken from the user when run as a .py file or \n",
    "can be input before the cell is run as a .ipynb file."
   ]
  },
  {
   "cell_type": "code",
   "execution_count": 1,
   "metadata": {},
   "outputs": [],
   "source": [
    "from datetime import datetime, timedelta\n",
    "from netCDF4 import Dataset\n",
    "\n",
    "import cartopy.crs as ccrs\n",
    "import cartopy.feature as cfeature\n",
    "import matplotlib.pyplot as plt\n",
    "import glob\n",
    "\n",
    "import numpy as np\n",
    "import math\n",
    "\n",
    "import pandas as pd\n",
    "\n",
    "from metpy.calc import reduce_point_density\n",
    "import metpy.calc as mpcalc\n",
    "from metpy.plots import StationPlot, wx_code_to_numeric\n",
    "from metpy.plots.wx_symbols import sky_cover, current_weather\n",
    "from metpy.units import units\n",
    "from metpy.interpolate import interpolate_to_grid, remove_nan_observations\n",
    "from metpy.io import metar\n"
   ]
  },
  {
   "cell_type": "code",
   "execution_count": 2,
   "metadata": {},
   "outputs": [],
   "source": [
    "UNIX_TIME = datetime(1970,1,1,0)"
   ]
  },
  {
   "cell_type": "markdown",
   "metadata": {},
   "source": [
    "### Date, time, and location\n",
    "\n",
    "Here the user can input a date, time, and coordinates for the map to be plotted."
   ]
  },
  {
   "cell_type": "code",
   "execution_count": 3,
   "metadata": {},
   "outputs": [],
   "source": [
    "#set time to plot\n",
    "start_year  = 2023\n",
    "start_month = 3\n",
    "start_day   = 22\n",
    "start_hour  = 0\n",
    "    \n",
    "#set plot domain\n",
    "lat_min = 40\n",
    "lat_max = 52\n",
    "lon_min = -102\n",
    "lon_max = -86\n",
    "    \n",
    "start_date = datetime(start_year,start_month,start_day,start_hour)"
   ]
  },
  {
   "cell_type": "markdown",
   "metadata": {},
   "source": [
    "### Getting Data\n",
    "\n",
    "Data is downladed and extracted from MADIS data archived by NCEP (https://madis-data.cprk.ncep.noaa.gov/madisPublic1/data/archive/)."
   ]
  },
  {
   "cell_type": "code",
   "execution_count": 4,
   "metadata": {},
   "outputs": [
    {
     "ename": "NameError",
     "evalue": "name 'dt' is not defined",
     "output_type": "error",
     "traceback": [
      "\u001b[0;31m---------------------------------------------------------------------------\u001b[0m",
      "\u001b[0;31mNameError\u001b[0m                                 Traceback (most recent call last)",
      "Cell \u001b[0;32mIn [4], line 8\u001b[0m\n\u001b[1;32m      6\u001b[0m \u001b[38;5;66;03m#download and extract the data\u001b[39;00m\n\u001b[1;32m      7\u001b[0m base_url \u001b[38;5;241m=\u001b[39m \u001b[38;5;124m'\u001b[39m\u001b[38;5;124mhttps://madis-data.cprk.ncep.noaa.gov/madisPublic1/data/archive/\u001b[39m\u001b[38;5;124m'\u001b[39m\u001b[38;5;66;03m#2013/11/17/point/metar/netcdf/\u001b[39;00m\n\u001b[0;32m----> 8\u001b[0m url \u001b[38;5;241m=\u001b[39m \u001b[38;5;124mf\u001b[39m\u001b[38;5;124m'\u001b[39m\u001b[38;5;132;01m{\u001b[39;00mbase_url\u001b[38;5;132;01m}\u001b[39;00m\u001b[38;5;132;01m{\u001b[39;00mdt\u001b[38;5;132;01m:\u001b[39;00m\u001b[38;5;124m%Y\u001b[39m\u001b[38;5;132;01m}\u001b[39;00m\u001b[38;5;124m/\u001b[39m\u001b[38;5;132;01m{\u001b[39;00mdt\u001b[38;5;132;01m:\u001b[39;00m\u001b[38;5;124m%m\u001b[39m\u001b[38;5;132;01m}\u001b[39;00m\u001b[38;5;124m/\u001b[39m\u001b[38;5;132;01m{\u001b[39;00mdt\u001b[38;5;132;01m:\u001b[39;00m\u001b[38;5;124m%d\u001b[39m\u001b[38;5;132;01m}\u001b[39;00m\u001b[38;5;124m/point/metar/netcdf/\u001b[39m\u001b[38;5;132;01m{\u001b[39;00mdt\u001b[38;5;132;01m:\u001b[39;00m\u001b[38;5;124m%Y%m%d_%H%M\u001b[39m\u001b[38;5;132;01m}\u001b[39;00m\u001b[38;5;124m.gz\u001b[39m\u001b[38;5;124m'\u001b[39m\n\u001b[1;32m      9\u001b[0m r \u001b[38;5;241m=\u001b[39m requests\u001b[38;5;241m.\u001b[39mget(url,allow_redirects\u001b[38;5;241m=\u001b[39m\u001b[38;5;28;01mTrue\u001b[39;00m)\n\u001b[1;32m     10\u001b[0m \u001b[38;5;28mopen\u001b[39m(\u001b[38;5;124m'\u001b[39m\u001b[38;5;124mtemp.nc.gz\u001b[39m\u001b[38;5;124m'\u001b[39m,\u001b[38;5;124m'\u001b[39m\u001b[38;5;124mwb\u001b[39m\u001b[38;5;124m'\u001b[39m)\u001b[38;5;241m.\u001b[39mwrite(r\u001b[38;5;241m.\u001b[39mcontent)\n",
      "\u001b[0;31mNameError\u001b[0m: name 'dt' is not defined"
     ]
    }
   ],
   "source": [
    "#get the data\n",
    "import requests\n",
    "import gzip\n",
    "import shutil\n",
    "\n",
    "#download and extract the data\n",
    "base_url = 'https://madis-data.cprk.ncep.noaa.gov/madisPublic1/data/archive/'#2013/11/17/point/metar/netcdf/\n",
    "url = f'{base_url}{dt:%Y}/{dt:%m}/{dt:%d}/point/metar/netcdf/{dt:%Y%m%d_%H%M}.gz'\n",
    "r = requests.get(url,allow_redirects=True)\n",
    "open('temp.nc.gz','wb').write(r.content)\n",
    "with gzip.open('temp.nc.gz','rb') as f_in:\n",
    "    with open('temp.nc','wb') as f_out:\n",
    "        shutil.copyfileobj(f_in,f_out)\n",
    "data=Dataset('temp.nc','r')\n",
    "print(url)"
   ]
  },
  {
   "cell_type": "markdown",
   "metadata": {},
   "source": [
    "### Processing data\n",
    "\n",
    "The data is processed, converted to station plots, and placed into a dataframe for trimming in the next step."
   ]
  },
  {
   "cell_type": "code",
   "execution_count": null,
   "metadata": {},
   "outputs": [],
   "source": [
    "time = [UNIX_TIME + timedelta(seconds=float(t)) for t in data['timeNominal']]\n",
    "lat = data['latitude'][:]\n",
    "lat = lat.filled(np.nan)\n",
    "lon = data['longitude'][:]\n",
    "lon = lon.filled(np.nan)\n",
    "temp = data['temperature'][:]\n",
    "temp = temp.filled(np.nan)\n",
    "temp[temp<100]=np.nan\n",
    "temp = (temp-273.15)\n",
    "dwpt = data['dewpoint'][:]\n",
    "dwpt = dwpt.filled(np.nan)\n",
    "dwpt[dwpt<100]=np.nan\n",
    "dwpt = (dwpt-273.15)\n",
    "wspd = data['windSpeed'][:]\n",
    "wspd = wspd.filled(np.nan)\n",
    "wspd[wspd>250] = np.nan\n",
    "wdir = data['windDir'][:]\n",
    "wdir = wdir.filled(np.nan)\n",
    "wdir[wdir<0] = np.nan\n",
    "gust = data['windGust'][:]\n",
    "gust = gust.filled(np.nan)\n",
    "gust[gust<0] = np.nan\n",
    "pres = data['seaLevelPress'][:]/100.0\n",
    "pres = pres.filled(np.nan)\n",
    "#pres[pres<900] = np.nan\n",
    "#pres[pres>1100] = np.nan\n",
    "#print(pres)\n",
    "name = data['stationName'][:]\n",
    "name = [i.tostring().decode()[:4] for i in name]\n",
    "sky_cov = data['skyCover'][:]\n",
    "sky_cov = [(i[0].tostring().decode()).rstrip('\\x00') for i in sky_cov]\n",
    "sky_cvr = np.zeros(len(sky_cov),dtype=int)\n",
    "clr_inds = [n for n,i in zip(range(len(sky_cov)),sky_cov) if i==\"CLR\"]\n",
    "sky_cvr[clr_inds] = 0\n",
    "few_inds = [n for n,i in zip(range(len(sky_cov)),sky_cov) if i==\"FEW\"]\n",
    "sky_cvr[few_inds] = 2\n",
    "sct_inds = [n for n,i in zip(range(len(sky_cov)),sky_cov) if i==\"SCT\"]\n",
    "sky_cvr[sct_inds] = 4\n",
    "bkn_inds = [n for n,i in zip(range(len(sky_cov)),sky_cov) if i==\"BKN\"]\n",
    "sky_cvr[bkn_inds] = 6\n",
    "ovc_inds = [n for n,i in zip(range(len(sky_cov)),sky_cov) if i==\"OVC\"]\n",
    "sky_cvr[ovc_inds] = 8\n",
    "wx = data['presWeather'][:]\n",
    "pres_wx = np.zeros(len(lat))\n",
    "wx = [(i.tostring().decode()).rstrip('\\x00') for i in wx]\n",
    "for i in range(len(wx)):\n",
    "    this_wx = wx[i].split()\n",
    "    if this_wx == []:\n",
    "        pres_wx[i] = 0\n",
    "        continue\n",
    "    pres_wx[i] = wx_code_to_numeric(this_wx)[0]\n",
    "pres_wx = pres_wx.astype(int)\n",
    "#print([wx_code_to_numeric(i) for i in wx])\n",
    "#sky_cov[sky_cov==\"CLR\"] = 0.0\n",
    "#sky_cov[sky_cov==\"FEW\"] = 0.25 \n",
    "#print(wx)\n",
    "    \n",
    "u,v = mpcalc.wind_components((wspd*units('m/s')).to('knots'),wdir*units.degree)\n",
    "\n",
    "#u = np.abs(wspd) * np.cos(np.deg2rad(270-wdir))\n",
    "#u[np.abs(u)>250] = np.nan\n",
    "#v = np.abs(wspd) * np.sin(np.deg2rad(270-wdir))\n",
    "#v[np.abs(v)>250] = np.nan\n",
    "\n",
    "#u=u*units['kts']\n",
    "#v=v*units['kts']\n",
    "\n",
    "df = pd.DataFrame(np.transpose(np.array([time,name,name,lon,lat,u,v,temp,dwpt,pres,sky_cvr,pres_wx])),\n",
    "                      columns = ['time','id','name','lon','lat','u','v','temp','dwpt','pres','sky_cvr','wx'])"
   ]
  },
  {
   "cell_type": "markdown",
   "metadata": {},
   "source": [
    "### Trimming data\n",
    "\n",
    "The data is trimmed to drop data outside of the latitude and longitude frame requested by the user."
   ]
  },
  {
   "cell_type": "code",
   "execution_count": null,
   "metadata": {},
   "outputs": [],
   "source": [
    "print('  drop data outside of domain')\n",
    "to_drop = df[(df['lat'] > lat_max+10) | (df['lat'] < lat_min-10) | (df['lon'] > lon_max+10) | (df['lon'] < lon_min-10)].index\n",
    "print('    dropped %i observations'%len(to_drop))\n",
    "df.drop(to_drop,inplace=True)\n",
    "df.set_index(['time','id'],inplace=True)"
   ]
  },
  {
   "cell_type": "markdown",
   "metadata": {},
   "source": [
    "### Successive Corrections\n",
    "\n",
    "A successive corrections algorithm will be run to improve the quality of pressure contours. The successive corrections method performed here is done according to (***INSERT OBAN TEXT REFERENCE HERE***)"
   ]
  },
  {
   "cell_type": "code",
   "execution_count": null,
   "metadata": {},
   "outputs": [],
   "source": [
    "### OBAN SUCCESSIVE CORRECTIONS ###\n"
   ]
  },
  {
   "cell_type": "markdown",
   "metadata": {},
   "source": [
    "### Plotting data\n",
    "\n",
    "Data is plotted and a map is produced for each hour requested"
   ]
  },
  {
   "cell_type": "code",
   "execution_count": null,
   "metadata": {},
   "outputs": [],
   "source": [
    "proj = ccrs.LambertConformal(central_latitude=(lat_min+lat_max) / 2,\n",
    "                                     central_longitude=(lon_min+lon_max) / 2)\n",
    "\n",
    "slpdf = df.dropna(subset=['pres'],inplace=False)\n",
    "    \n",
    "point_locs = proj.transform_points(ccrs.PlateCarree(),df['lon'].values,df['lat'].values)\n",
    "point_locs_slp = proj.transform_points(ccrs.PlateCarree(),slpdf['lon'].values,slpdf['lat'].values)\n",
    "\n",
    "xp,yp,null = point_locs_slp.T\n",
    "    \n",
    "slpgridx, slpgridy, slp = interpolate_to_grid(xp,yp,slpdf['pres'],interp_type='cressman',minimum_neighbors=1,hres=10000,search_radius=100000)\n",
    "    \n",
    "df = df[reduce_point_density(point_locs,90000.)]\n",
    "    \n",
    "fig=plt.figure(figsize=(11,6.5),dpi=300)\n",
    "ax = fig.add_subplot(1,1,1,projection=proj)\n",
    "ax.add_feature(cfeature.STATES)\n",
    "ax.add_feature(cfeature.COASTLINE)\n",
    "ax.set_extent((lon_min,lon_max,lat_min,lat_max))\n",
    "\n",
    "stationplot = StationPlot(ax,df['lon'].values,df['lat'].values,clip_on=True, transform=ccrs.PlateCarree(),fontsize=8)\n",
    "#stationplot.plot_text((2.1,0),df['name'].values,fontsize=4,color='gray')\n",
    "stationplot.plot_parameter('NW',df['temp']*(9.0/5.0)+32.0,color='darkred',fontsize=8)\n",
    "stationplot.plot_parameter('NE',df['pres'],color='black',formatter=lambda v: format(10 * v, '.0f')[-3:],fontsize=8)\n",
    "stationplot.plot_parameter('SW',df['dwpt']*(9.0/5.0)+32.0,color='darkgreen',fontsize=8)\n",
    "stationplot.plot_barb(np.array(df['u'].values,dtype=np.float),np.array(df['v'].values,dtype=np.float),linewidth=0.7,length=6)\n",
    "cs = plt.contour(slpgridx,slpgridy,slp,colors='k',levels=list(range(900,1034,4)),linewidths=1)\n",
    "plt.clabel(cs, inline=1, fontsize=8, fmt='%i')\n",
    "stationplot.plot_symbol('C',df['sky_cvr'].values,sky_cover)\n",
    "stationplot.plot_symbol('W',df['wx'].values,current_weather,fontsize=12)\n",
    "#plt.suptitle(dt_str)\n",
    "fig.tight_layout()\n",
    "    \n",
    "plt.show()"
   ]
  },
  {
   "cell_type": "code",
   "execution_count": null,
   "metadata": {},
   "outputs": [],
   "source": []
  }
 ],
 "metadata": {
  "kernelspec": {
   "display_name": "Python 3",
   "language": "python",
   "name": "python3"
  },
  "language_info": {
   "codemirror_mode": {
    "name": "ipython",
    "version": 3
   },
   "file_extension": ".py",
   "mimetype": "text/x-python",
   "name": "python",
   "nbconvert_exporter": "python",
   "pygments_lexer": "ipython3",
   "version": "3.9.5"
  }
 },
 "nbformat": 4,
 "nbformat_minor": 4
}
