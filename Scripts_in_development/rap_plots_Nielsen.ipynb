{
 "cells": [
  {
   "cell_type": "code",
   "execution_count": 9,
   "id": "2986be19",
   "metadata": {},
   "outputs": [],
   "source": [
    "from datetime import datetime, timedelta\n",
    "from netCDF4 import Dataset\n",
    "\n",
    "\n",
    "import cartopy.crs as ccrs\n",
    "import cartopy.feature as cfeature\n",
    "import matplotlib.pyplot as plt\n",
    "import glob\n",
    "\n",
    "import numpy as np\n",
    "import math\n",
    "\n",
    "\n",
    "from netCDF4 import Dataset\n",
    "\n",
    "import pandas as pd\n",
    "\n",
    "from metpy.calc import reduce_point_density\n",
    "import metpy.calc as mpcalc\n",
    "from metpy.plots import StationPlot, wx_code_to_numeric\n",
    "from metpy.plots.wx_symbols import sky_cover, current_weather\n",
    "from metpy.units import units\n",
    "from metpy.interpolate import interpolate_to_grid, remove_nan_observations\n",
    "from metpy.io import metar"
   ]
  },
  {
   "cell_type": "code",
   "execution_count": 25,
   "id": "7e98378a",
   "metadata": {
    "scrolled": true
   },
   "outputs": [
    {
     "name": "stdout",
     "output_type": "stream",
     "text": [
      "6.660833333333333\n"
     ]
    }
   ],
   "source": [
    "#set time to plot\n",
    "start_year  = 2023\n",
    "start_month = 3\n",
    "start_day   = 22\n",
    "start_hour  = 0\n",
    "    \n",
    "#set plot domain\n",
    "lat_min = 33\n",
    "lat_max = 43\n",
    "lon_min = -123\n",
    "lon_max = -113\n",
    "    \n",
    "dt = datetime(start_year,start_month,start_day,start_hour)\n",
    "\n",
    "print((dt - datetime.now()).seconds/60/60)\n"
   ]
  },
  {
   "cell_type": "code",
   "execution_count": 21,
   "id": "494319be",
   "metadata": {},
   "outputs": [
    {
     "name": "stdout",
     "output_type": "stream",
     "text": [
      "https://madis-data.cprk.ncep.noaa.gov/madisPublic1/data/point/raob/netcdf/20230322_0000.gz\n"
     ]
    },
    {
     "ename": "BadGzipFile",
     "evalue": "Not a gzipped file (b'<!')",
     "output_type": "error",
     "traceback": [
      "\u001b[0;31m---------------------------------------------------------------------------\u001b[0m",
      "\u001b[0;31mBadGzipFile\u001b[0m                               Traceback (most recent call last)",
      "Input \u001b[0;32mIn [21]\u001b[0m, in \u001b[0;36m<cell line: 19>\u001b[0;34m()\u001b[0m\n\u001b[1;32m     19\u001b[0m \u001b[38;5;28;01mwith\u001b[39;00m gzip\u001b[38;5;241m.\u001b[39mopen(\u001b[38;5;124m'\u001b[39m\u001b[38;5;124mtemp.nc.gz\u001b[39m\u001b[38;5;124m'\u001b[39m,\u001b[38;5;124m'\u001b[39m\u001b[38;5;124mrb\u001b[39m\u001b[38;5;124m'\u001b[39m) \u001b[38;5;28;01mas\u001b[39;00m f_in:\n\u001b[1;32m     20\u001b[0m     \u001b[38;5;28;01mwith\u001b[39;00m \u001b[38;5;28mopen\u001b[39m(\u001b[38;5;124m'\u001b[39m\u001b[38;5;124mtemp.nc\u001b[39m\u001b[38;5;124m'\u001b[39m,\u001b[38;5;124m'\u001b[39m\u001b[38;5;124mwb\u001b[39m\u001b[38;5;124m'\u001b[39m) \u001b[38;5;28;01mas\u001b[39;00m f_out:\n\u001b[0;32m---> 21\u001b[0m         \u001b[43mshutil\u001b[49m\u001b[38;5;241;43m.\u001b[39;49m\u001b[43mcopyfileobj\u001b[49m\u001b[43m(\u001b[49m\u001b[43mf_in\u001b[49m\u001b[43m,\u001b[49m\u001b[43mf_out\u001b[49m\u001b[43m)\u001b[49m\n\u001b[1;32m     22\u001b[0m data\u001b[38;5;241m=\u001b[39mDataset(\u001b[38;5;124m'\u001b[39m\u001b[38;5;124mtemp.nc\u001b[39m\u001b[38;5;124m'\u001b[39m,\u001b[38;5;124m'\u001b[39m\u001b[38;5;124mr\u001b[39m\u001b[38;5;124m'\u001b[39m)\n",
      "File \u001b[0;32m~/opt/anaconda3/envs/atsc528/lib/python3.10/shutil.py:195\u001b[0m, in \u001b[0;36mcopyfileobj\u001b[0;34m(fsrc, fdst, length)\u001b[0m\n\u001b[1;32m    193\u001b[0m fdst_write \u001b[38;5;241m=\u001b[39m fdst\u001b[38;5;241m.\u001b[39mwrite\n\u001b[1;32m    194\u001b[0m \u001b[38;5;28;01mwhile\u001b[39;00m \u001b[38;5;28;01mTrue\u001b[39;00m:\n\u001b[0;32m--> 195\u001b[0m     buf \u001b[38;5;241m=\u001b[39m \u001b[43mfsrc_read\u001b[49m\u001b[43m(\u001b[49m\u001b[43mlength\u001b[49m\u001b[43m)\u001b[49m\n\u001b[1;32m    196\u001b[0m     \u001b[38;5;28;01mif\u001b[39;00m \u001b[38;5;129;01mnot\u001b[39;00m buf:\n\u001b[1;32m    197\u001b[0m         \u001b[38;5;28;01mbreak\u001b[39;00m\n",
      "File \u001b[0;32m~/opt/anaconda3/envs/atsc528/lib/python3.10/gzip.py:301\u001b[0m, in \u001b[0;36mGzipFile.read\u001b[0;34m(self, size)\u001b[0m\n\u001b[1;32m    299\u001b[0m     \u001b[38;5;28;01mimport\u001b[39;00m \u001b[38;5;21;01merrno\u001b[39;00m\n\u001b[1;32m    300\u001b[0m     \u001b[38;5;28;01mraise\u001b[39;00m \u001b[38;5;167;01mOSError\u001b[39;00m(errno\u001b[38;5;241m.\u001b[39mEBADF, \u001b[38;5;124m\"\u001b[39m\u001b[38;5;124mread() on write-only GzipFile object\u001b[39m\u001b[38;5;124m\"\u001b[39m)\n\u001b[0;32m--> 301\u001b[0m \u001b[38;5;28;01mreturn\u001b[39;00m \u001b[38;5;28;43mself\u001b[39;49m\u001b[38;5;241;43m.\u001b[39;49m\u001b[43m_buffer\u001b[49m\u001b[38;5;241;43m.\u001b[39;49m\u001b[43mread\u001b[49m\u001b[43m(\u001b[49m\u001b[43msize\u001b[49m\u001b[43m)\u001b[49m\n",
      "File \u001b[0;32m~/opt/anaconda3/envs/atsc528/lib/python3.10/_compression.py:68\u001b[0m, in \u001b[0;36mDecompressReader.readinto\u001b[0;34m(self, b)\u001b[0m\n\u001b[1;32m     66\u001b[0m \u001b[38;5;28;01mdef\u001b[39;00m \u001b[38;5;21mreadinto\u001b[39m(\u001b[38;5;28mself\u001b[39m, b):\n\u001b[1;32m     67\u001b[0m     \u001b[38;5;28;01mwith\u001b[39;00m \u001b[38;5;28mmemoryview\u001b[39m(b) \u001b[38;5;28;01mas\u001b[39;00m view, view\u001b[38;5;241m.\u001b[39mcast(\u001b[38;5;124m\"\u001b[39m\u001b[38;5;124mB\u001b[39m\u001b[38;5;124m\"\u001b[39m) \u001b[38;5;28;01mas\u001b[39;00m byte_view:\n\u001b[0;32m---> 68\u001b[0m         data \u001b[38;5;241m=\u001b[39m \u001b[38;5;28;43mself\u001b[39;49m\u001b[38;5;241;43m.\u001b[39;49m\u001b[43mread\u001b[49m\u001b[43m(\u001b[49m\u001b[38;5;28;43mlen\u001b[39;49m\u001b[43m(\u001b[49m\u001b[43mbyte_view\u001b[49m\u001b[43m)\u001b[49m\u001b[43m)\u001b[49m\n\u001b[1;32m     69\u001b[0m         byte_view[:\u001b[38;5;28mlen\u001b[39m(data)] \u001b[38;5;241m=\u001b[39m data\n\u001b[1;32m     70\u001b[0m     \u001b[38;5;28;01mreturn\u001b[39;00m \u001b[38;5;28mlen\u001b[39m(data)\n",
      "File \u001b[0;32m~/opt/anaconda3/envs/atsc528/lib/python3.10/gzip.py:488\u001b[0m, in \u001b[0;36m_GzipReader.read\u001b[0;34m(self, size)\u001b[0m\n\u001b[1;32m    484\u001b[0m \u001b[38;5;28;01mif\u001b[39;00m \u001b[38;5;28mself\u001b[39m\u001b[38;5;241m.\u001b[39m_new_member:\n\u001b[1;32m    485\u001b[0m     \u001b[38;5;66;03m# If the _new_member flag is set, we have to\u001b[39;00m\n\u001b[1;32m    486\u001b[0m     \u001b[38;5;66;03m# jump to the next member, if there is one.\u001b[39;00m\n\u001b[1;32m    487\u001b[0m     \u001b[38;5;28mself\u001b[39m\u001b[38;5;241m.\u001b[39m_init_read()\n\u001b[0;32m--> 488\u001b[0m     \u001b[38;5;28;01mif\u001b[39;00m \u001b[38;5;129;01mnot\u001b[39;00m \u001b[38;5;28;43mself\u001b[39;49m\u001b[38;5;241;43m.\u001b[39;49m\u001b[43m_read_gzip_header\u001b[49m\u001b[43m(\u001b[49m\u001b[43m)\u001b[49m:\n\u001b[1;32m    489\u001b[0m         \u001b[38;5;28mself\u001b[39m\u001b[38;5;241m.\u001b[39m_size \u001b[38;5;241m=\u001b[39m \u001b[38;5;28mself\u001b[39m\u001b[38;5;241m.\u001b[39m_pos\n\u001b[1;32m    490\u001b[0m         \u001b[38;5;28;01mreturn\u001b[39;00m \u001b[38;5;124mb\u001b[39m\u001b[38;5;124m\"\u001b[39m\u001b[38;5;124m\"\u001b[39m\n",
      "File \u001b[0;32m~/opt/anaconda3/envs/atsc528/lib/python3.10/gzip.py:436\u001b[0m, in \u001b[0;36m_GzipReader._read_gzip_header\u001b[0;34m(self)\u001b[0m\n\u001b[1;32m    433\u001b[0m     \u001b[38;5;28;01mreturn\u001b[39;00m \u001b[38;5;28;01mFalse\u001b[39;00m\n\u001b[1;32m    435\u001b[0m \u001b[38;5;28;01mif\u001b[39;00m magic \u001b[38;5;241m!=\u001b[39m \u001b[38;5;124mb\u001b[39m\u001b[38;5;124m'\u001b[39m\u001b[38;5;130;01m\\037\u001b[39;00m\u001b[38;5;130;01m\\213\u001b[39;00m\u001b[38;5;124m'\u001b[39m:\n\u001b[0;32m--> 436\u001b[0m     \u001b[38;5;28;01mraise\u001b[39;00m BadGzipFile(\u001b[38;5;124m'\u001b[39m\u001b[38;5;124mNot a gzipped file (\u001b[39m\u001b[38;5;132;01m%r\u001b[39;00m\u001b[38;5;124m)\u001b[39m\u001b[38;5;124m'\u001b[39m \u001b[38;5;241m%\u001b[39m magic)\n\u001b[1;32m    438\u001b[0m (method, flag,\n\u001b[1;32m    439\u001b[0m  \u001b[38;5;28mself\u001b[39m\u001b[38;5;241m.\u001b[39m_last_mtime) \u001b[38;5;241m=\u001b[39m struct\u001b[38;5;241m.\u001b[39munpack(\u001b[38;5;124m\"\u001b[39m\u001b[38;5;124m<BBIxx\u001b[39m\u001b[38;5;124m\"\u001b[39m, \u001b[38;5;28mself\u001b[39m\u001b[38;5;241m.\u001b[39m_read_exact(\u001b[38;5;241m8\u001b[39m))\n\u001b[1;32m    440\u001b[0m \u001b[38;5;28;01mif\u001b[39;00m method \u001b[38;5;241m!=\u001b[39m \u001b[38;5;241m8\u001b[39m:\n",
      "\u001b[0;31mBadGzipFile\u001b[0m: Not a gzipped file (b'<!')"
     ]
    }
   ],
   "source": [
    "#get the data\n",
    "import requests\n",
    "import gzip\n",
    "import shutil\n",
    "\n",
    "if ((dt-datetime.now()).seconds/(60*60))>100:\n",
    "    #download and extract the data\n",
    "    base_url = 'https://madis-data.cprk.ncep.noaa.gov/madisPublic1/data/archive/'\n",
    "    url = f'{base_url}{dt:%Y}/{dt:%m}/{dt:%d}/point/raob/netcdf/{dt:%Y%m%d_%H%M}.gz'\n",
    "\n",
    "else:\n",
    "    base_url = 'https://madis-data.cprk.ncep.noaa.gov/madisPublic1/data/point/raob/netcdf/'\n",
    "    url = f'{base_url}{dt:%Y%m%d_%H%M}.gz'\n",
    "\n",
    "print(url)\n",
    "\n",
    "r = requests.get(url,allow_redirects=True)\n",
    "open('temp.nc.gz','wb').write(r.content)\n",
    "with gzip.open('temp.nc.gz','rb') as f_in:\n",
    "    with open('temp.nc','wb') as f_out:\n",
    "        shutil.copyfileobj(f_in,f_out)\n",
    "data=Dataset('temp.nc','r')"
   ]
  },
  {
   "cell_type": "code",
   "execution_count": null,
   "id": "4cc6702a",
   "metadata": {},
   "outputs": [],
   "source": [
    "time = [UNIX_TIME + timedelta(seconds=float(t)) for t in data['timeNominal']]\n",
    "lat = data['latitude'][:]\n",
    "lat = lat.filled(np.nan)\n",
    "lon = data['longitude'][:]\n",
    "lon = lon.filled(np.nan)\n",
    "temp = data['temperature'][:]\n",
    "temp = temp.filled(np.nan)\n",
    "temp[temp<100]=np.nan\n",
    "temp = (temp-273.15)\n",
    "dwpt = data['dewpoint'][:]\n",
    "dwpt = dwpt.filled(np.nan)\n",
    "dwpt[dwpt<100]=np.nan\n",
    "dwpt = (dwpt-273.15)\n",
    "wspd = data['windSpeed'][:]\n",
    "wspd = wspd.filled(np.nan)\n",
    "wspd[wspd>250] = np.nan\n",
    "wdir = data['windDir'][:]\n",
    "wdir = wdir.filled(np.nan)\n",
    "wdir[wdir<0] = np.nan\n",
    "gust = data['windGust'][:]\n",
    "gust = gust.filled(np.nan)\n",
    "gust[gust<0] = np.nan\n",
    "pres = data['seaLevelPress'][:]/100.0\n",
    "pres = pres.filled(np.nan)\n",
    "#pres[pres<900] = np.nan\n",
    "#pres[pres>1100] = np.nan\n",
    "#print(pres)\n",
    "name = data['stationName'][:]\n",
    "name = [i.tostring().decode()[:4] for i in name]\n",
    "wx = data['presWeather'][:]\n",
    "pres_wx = np.zeros(len(lat))\n",
    "wx = [(i.tostring().decode()).rstrip('\\x00') for i in wx]\n",
    "for i in range(len(wx)):\n",
    "    this_wx = wx[i].split()\n",
    "    if this_wx == []:\n",
    "        pres_wx[i] = 0\n",
    "        continue\n",
    "    pres_wx[i] = wx_code_to_numeric(this_wx)[0]\n",
    "pres_wx = pres_wx.astype(int)\n",
    "#print([wx_code_to_numeric(i) for i in wx])\n",
    "#sky_cov[sky_cov==\"CLR\"] = 0.0\n",
    "#sky_cov[sky_cov==\"FEW\"] = 0.25 \n",
    "#print(wx)\n",
    "    \n",
    "u,v = mpcalc.wind_components((wspd*units('m/s')).to('knots'),wdir*units.degree)\n",
    "\n",
    "#u = np.abs(wspd) * np.cos(np.deg2rad(270-wdir))\n",
    "#u[np.abs(u)>250] = np.nan\n",
    "#v = np.abs(wspd) * np.sin(np.deg2rad(270-wdir))\n",
    "#v[np.abs(v)>250] = np.nan\n",
    "\n",
    "#u=u*units['kts']\n",
    "#v=v*units['kts']\n",
    "\n",
    "df = pd.DataFrame(np.transpose(np.array([time,name,name,lon,lat,u,v,temp,dwpt,pres,sky_cvr,pres_wx])),\n",
    "                      columns = ['time','id','name','lon','lat','u','v','temp','dwpt','pres','wx'])"
   ]
  }
 ],
 "metadata": {
  "kernelspec": {
   "display_name": "Python [conda env:atsc528] *",
   "language": "python",
   "name": "conda-env-atsc528-py"
  },
  "language_info": {
   "codemirror_mode": {
    "name": "ipython",
    "version": 3
   },
   "file_extension": ".py",
   "mimetype": "text/x-python",
   "name": "python",
   "nbconvert_exporter": "python",
   "pygments_lexer": "ipython3",
   "version": "3.10.4"
  }
 },
 "nbformat": 4,
 "nbformat_minor": 5
}
