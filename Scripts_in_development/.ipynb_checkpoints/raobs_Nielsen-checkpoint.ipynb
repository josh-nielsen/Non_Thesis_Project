{
 "cells": [
  {
   "cell_type": "code",
   "execution_count": 1,
   "id": "2986be19",
   "metadata": {},
   "outputs": [],
   "source": [
    "from datetime import datetime, timedelta\n",
    "from netCDF4 import Dataset\n",
    "\n",
    "\n",
    "import cartopy.crs as ccrs\n",
    "import cartopy.feature as cfeature\n",
    "import matplotlib.pyplot as plt\n",
    "import glob\n",
    "\n",
    "import numpy as np\n",
    "import math\n",
    "\n",
    "\n",
    "from netCDF4 import Dataset\n",
    "\n",
    "import pandas as pd\n",
    "\n",
    "from metpy.calc import reduce_point_density\n",
    "import metpy.calc as mpcalc\n",
    "from metpy.plots import StationPlot, wx_code_to_numeric\n",
    "from metpy.plots.wx_symbols import sky_cover, current_weather\n",
    "from metpy.units import units\n",
    "from metpy.interpolate import interpolate_to_grid, remove_nan_observations\n",
    "from metpy.io import metar"
   ]
  },
  {
   "cell_type": "code",
   "execution_count": 2,
   "id": "48702525",
   "metadata": {},
   "outputs": [],
   "source": [
    "UNIX_TIME = datetime(1970,1,1,0)"
   ]
  },
  {
   "cell_type": "code",
   "execution_count": 3,
   "id": "7e98378a",
   "metadata": {
    "scrolled": true
   },
   "outputs": [
    {
     "name": "stdout",
     "output_type": "stream",
     "text": [
      "8.090439814814815\n"
     ]
    }
   ],
   "source": [
    "#set time to plot\n",
    "start_year  = 2023\n",
    "start_month = 4\n",
    "start_day   = 9\n",
    "start_hour  = 12\n",
    "#start_min   = 0\n",
    "    \n",
    "#set plot domain\n",
    "lat_min = 33\n",
    "lat_max = 43\n",
    "lon_min = -123\n",
    "lon_max = -113\n",
    "    \n",
    "dt = datetime(start_year,start_month,start_day,start_hour)#,start_min)\n",
    "del_t = datetime.now()-dt\n",
    "del_t_days = del_t.days + (del_t.seconds/60/60/24)\n",
    "print(del_t_days)"
   ]
  },
  {
   "cell_type": "code",
   "execution_count": 4,
   "id": "494319be",
   "metadata": {},
   "outputs": [
    {
     "name": "stdout",
     "output_type": "stream",
     "text": [
      "https://madis-data.cprk.ncep.noaa.gov/madisPublic1/data/archive/2023/04/09/point/raob/netcdf/20230409_1200.gz\n"
     ]
    }
   ],
   "source": [
    "#get the data\n",
    "import requests\n",
    "import gzip\n",
    "import shutil\n",
    "\n",
    "#download and extract the data\n",
    "\n",
    "if del_t_days>3:\n",
    "    base_url = 'https://madis-data.cprk.ncep.noaa.gov/madisPublic1/data/archive/'\n",
    "    url = f'{base_url}{dt:%Y}/{dt:%m}/{dt:%d}/point/raob/netcdf/{dt:%Y%m%d_%H%M}.gz'\n",
    "    print(url)\n",
    "    r = requests.get(url,allow_redirects=True)\n",
    "    open('temp.nc.gz','wb').write(r.content)\n",
    "    with gzip.open('temp.nc.gz','rb') as f_in:\n",
    "        with open('temp.nc','wb') as f_out:\n",
    "            shutil.copyfileobj(f_in,f_out)\n",
    "    data=Dataset('temp.nc','r')\n",
    "\n",
    "else:\n",
    "    base_url = 'https://madis-data.cprk.ncep.noaa.gov/madisPublic1/data/point/raob/netcdf/'\n",
    "    url = f'{base_url}{dt:%Y%m%d_%H%M}.gz'\n",
    "    print(url)\n",
    "    r = requests.get(url,allow_redirects=True)\n",
    "    open('temp.nc.gz','wb').write(r.content)\n",
    "    with gzip.open('temp.nc.gz','rb') as f_in:\n",
    "        with open('temp.nc','wb') as f_out:\n",
    "            shutil.copyfileobj(f_in,f_out)\n",
    "    data=Dataset('temp.nc','r')"
   ]
  },
  {
   "cell_type": "code",
   "execution_count": 5,
   "id": "4cc6702a",
   "metadata": {},
   "outputs": [
    {
     "name": "stderr",
     "output_type": "stream",
     "text": [
      "/tmp/ipykernel_3034822/1041621212.py:34: DeprecationWarning: tostring() is deprecated. Use tobytes() instead.\n",
      "  name = [i.tostring().decode()[:4] for i in name]\n",
      "/tmp/ipykernel_3034822/1041621212.py:60: VisibleDeprecationWarning: Creating an ndarray from ragged nested sequences (which is a list-or-tuple of lists-or-tuples-or ndarrays with different lengths or shapes) is deprecated. If you meant to do this, you must specify 'dtype=object' when creating the ndarray.\n",
      "  df = pd.DataFrame(np.transpose(np.array([time,name,name,lon,lat,u,v,temp,dwptdp,pres])),\n"
     ]
    },
    {
     "name": "stdout",
     "output_type": "stream",
     "text": [
      "[[nan nan -3.8358941078186035 ... nan nan nan] [nan 9.57580852508545 24.48792839050293 ... nan nan nan] [nan nan 34.70570755004883 ... nan nan nan] ... [-2.8164143562316895 5.053995132446289 4.956802845001221 ... nan nan nan] [nan -5.285163879394531 -5.498022079467773 ... nan nan nan] [nan 14.457592964172363 10.010798454284668 ... nan nan nan]] knot\n"
     ]
    },
    {
     "ename": "ValueError",
     "evalue": "could not broadcast input array from shape (402,22) into shape (402,)",
     "output_type": "error",
     "traceback": [
      "\u001b[0;31m---------------------------------------------------------------------------\u001b[0m",
      "\u001b[0;31mValueError\u001b[0m                                Traceback (most recent call last)",
      "Cell \u001b[0;32mIn[5], line 60\u001b[0m\n\u001b[1;32m     52\u001b[0m \u001b[38;5;66;03m#u = np.abs(wspd) * np.cos(np.deg2rad(270-wdir))\u001b[39;00m\n\u001b[1;32m     53\u001b[0m \u001b[38;5;66;03m#u[np.abs(u)>250] = np.nan\u001b[39;00m\n\u001b[1;32m     54\u001b[0m \u001b[38;5;66;03m#v = np.abs(wspd) * np.sin(np.deg2rad(270-wdir))\u001b[39;00m\n\u001b[0;32m   (...)\u001b[0m\n\u001b[1;32m     57\u001b[0m \u001b[38;5;66;03m#u=u*units['kts']\u001b[39;00m\n\u001b[1;32m     58\u001b[0m \u001b[38;5;66;03m#v=v*units['kts']\u001b[39;00m\n\u001b[1;32m     59\u001b[0m \u001b[38;5;28mprint\u001b[39m(u)\n\u001b[0;32m---> 60\u001b[0m df \u001b[38;5;241m=\u001b[39m pd\u001b[38;5;241m.\u001b[39mDataFrame(np\u001b[38;5;241m.\u001b[39mtranspose(\u001b[43mnp\u001b[49m\u001b[38;5;241;43m.\u001b[39;49m\u001b[43marray\u001b[49m\u001b[43m(\u001b[49m\u001b[43m[\u001b[49m\u001b[43mtime\u001b[49m\u001b[43m,\u001b[49m\u001b[43mname\u001b[49m\u001b[43m,\u001b[49m\u001b[43mname\u001b[49m\u001b[43m,\u001b[49m\u001b[43mlon\u001b[49m\u001b[43m,\u001b[49m\u001b[43mlat\u001b[49m\u001b[43m,\u001b[49m\u001b[43mu\u001b[49m\u001b[43m,\u001b[49m\u001b[43mv\u001b[49m\u001b[43m,\u001b[49m\u001b[43mtemp\u001b[49m\u001b[43m,\u001b[49m\u001b[43mdwptdp\u001b[49m\u001b[43m,\u001b[49m\u001b[43mpres\u001b[49m\u001b[43m]\u001b[49m\u001b[43m)\u001b[49m),\n\u001b[1;32m     61\u001b[0m                       columns \u001b[38;5;241m=\u001b[39m [\u001b[38;5;124m'\u001b[39m\u001b[38;5;124mtime\u001b[39m\u001b[38;5;124m'\u001b[39m,\u001b[38;5;124m'\u001b[39m\u001b[38;5;124mid\u001b[39m\u001b[38;5;124m'\u001b[39m,\u001b[38;5;124m'\u001b[39m\u001b[38;5;124mname\u001b[39m\u001b[38;5;124m'\u001b[39m,\u001b[38;5;124m'\u001b[39m\u001b[38;5;124mlon\u001b[39m\u001b[38;5;124m'\u001b[39m,\u001b[38;5;124m'\u001b[39m\u001b[38;5;124mlat\u001b[39m\u001b[38;5;124m'\u001b[39m,\u001b[38;5;124m'\u001b[39m\u001b[38;5;124mu\u001b[39m\u001b[38;5;124m'\u001b[39m,\u001b[38;5;124m'\u001b[39m\u001b[38;5;124mv\u001b[39m\u001b[38;5;124m'\u001b[39m,\u001b[38;5;124m'\u001b[39m\u001b[38;5;124mtemp\u001b[39m\u001b[38;5;124m'\u001b[39m,\u001b[38;5;124m'\u001b[39m\u001b[38;5;124mdwptdp\u001b[39m\u001b[38;5;124m'\u001b[39m,\u001b[38;5;124m'\u001b[39m\u001b[38;5;124mpres\u001b[39m\u001b[38;5;124m'\u001b[39m])\n",
      "\u001b[0;31mValueError\u001b[0m: could not broadcast input array from shape (402,22) into shape (402,)"
     ]
    }
   ],
   "source": [
    "time = [UNIX_TIME + timedelta(seconds=float(t)) for t in data['synTime']]\n",
    "lat = data['staLat'][:]\n",
    "lat = lat.filled(np.nan)\n",
    "lon = data['staLon'][:]\n",
    "lon = lon.filled(np.nan)\n",
    "pres = data['prMan'][:]\n",
    "pres = pres.filled(np.nan)\n",
    "hght = data['htMan'][:]\n",
    "hght = hght.filled(np.nan)\n",
    "temp = data['tpMan'][:]\n",
    "temp = temp.filled(np.nan)\n",
    "temp[temp<100]=np.nan\n",
    "temp = (temp-273.15)\n",
    "dwptdp = data['tdMan'][:]\n",
    "dwptdp = dwptdp.filled(np.nan)\n",
    "dwptdp[dwptdp<100]=np.nan\n",
    "dwptdp = (dwptdp-273.15)\n",
    "wdir = data['wdMan'][:]\n",
    "wdir = wdir.filled(np.nan)\n",
    "wdir[wdir<0] = np.nan\n",
    "wspd = data['wsMan'][:]\n",
    "wspd = wspd.filled(np.nan)\n",
    "wspd[wspd>250] = np.nan\n",
    "\n",
    "#gust = data['windGust'][:]\n",
    "#gust = gust.filled(np.nan)\n",
    "#gust[gust<0] = np.nan\n",
    "#pres = data['seaLevelPress'][:]/100.0\n",
    "#pres = pres.filled(np.nan)\n",
    "#pres[pres<900] = np.nan\n",
    "#pres[pres>1100] = np.nan\n",
    "#print(pres)\n",
    "name = data['staName'][:]\n",
    "name = [i.tostring().decode()[:4] for i in name]\n",
    "#wx = data['presWeather'][:]\n",
    "#pres_wx = np.zeros(len(lat))\n",
    "#wx = [(i.tostring().decode()).rstrip('\\x00') for i in wx]\n",
    "#for i in range(len(wx)):\n",
    "#    this_wx = wx[i].split()\n",
    "#    if this_wx == []:\n",
    "#        pres_wx[i] = 0\n",
    "#        continue\n",
    "#    pres_wx[i] = wx_code_to_numeric(this_wx)[0]\n",
    "#pres_wx = pres_wx.astype(int)\n",
    "#print([wx_code_to_numeric(i) for i in wx])\n",
    "#sky_cov[sky_cov==\"CLR\"] = 0.0\n",
    "#sky_cov[sky_cov==\"FEW\"] = 0.25 \n",
    "#print(wx)\n",
    "    \n",
    "u,v = mpcalc.wind_components((wspd*units('m/s')).to('knots'),wdir*units.degree)\n",
    "\n",
    "#u = np.abs(wspd) * np.cos(np.deg2rad(270-wdir))\n",
    "#u[np.abs(u)>250] = np.nan\n",
    "#v = np.abs(wspd) * np.sin(np.deg2rad(270-wdir))\n",
    "#v[np.abs(v)>250] = np.nan\n",
    "\n",
    "#u=u*units['kts']\n",
    "#v=v*units['kts']\n",
    "print(u)\n",
    "df = pd.DataFrame(np.transpose(np.array([time,name,name,lon,lat,u,v,temp,dwptdp,pres])),\n",
    "                      columns = ['time','id','name','lon','lat','u','v','temp','dwptdp','pres'])"
   ]
  },
  {
   "cell_type": "code",
   "execution_count": 14,
   "id": "b44cdab2",
   "metadata": {},
   "outputs": [
    {
     "data": {
      "text/plain": [
       "22"
      ]
     },
     "execution_count": 14,
     "metadata": {},
     "output_type": "execute_result"
    }
   ],
   "source": []
  },
  {
   "cell_type": "code",
   "execution_count": null,
   "id": "076b6a29",
   "metadata": {},
   "outputs": [],
   "source": []
  }
 ],
 "metadata": {
  "kernelspec": {
   "display_name": "Python 3 (ipykernel)",
   "language": "python",
   "name": "python3"
  },
  "language_info": {
   "codemirror_mode": {
    "name": "ipython",
    "version": 3
   },
   "file_extension": ".py",
   "mimetype": "text/x-python",
   "name": "python",
   "nbconvert_exporter": "python",
   "pygments_lexer": "ipython3",
   "version": "3.9.5"
  }
 },
 "nbformat": 4,
 "nbformat_minor": 5
}
