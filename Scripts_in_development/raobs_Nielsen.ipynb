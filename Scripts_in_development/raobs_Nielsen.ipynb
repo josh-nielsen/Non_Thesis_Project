{
 "cells": [
  {
   "cell_type": "code",
   "execution_count": 20,
   "id": "2986be19",
   "metadata": {},
   "outputs": [],
   "source": [
    "from datetime import datetime, timedelta\n",
    "from netCDF4 import Dataset\n",
    "\n",
    "\n",
    "import cartopy.crs as ccrs\n",
    "import cartopy.feature as cfeature\n",
    "import matplotlib.pyplot as plt\n",
    "import glob\n",
    "\n",
    "import numpy as np\n",
    "import math\n",
    "\n",
    "\n",
    "from netCDF4 import Dataset\n",
    "\n",
    "import pandas as pd\n",
    "import xarray as xr\n",
    "\n",
    "from metpy.calc import reduce_point_density\n",
    "import metpy.calc as mpcalc\n",
    "from metpy.plots import StationPlot, wx_code_to_numeric\n",
    "from metpy.plots.wx_symbols import sky_cover, current_weather\n",
    "from metpy.units import units\n",
    "from metpy.interpolate import interpolate_to_grid, remove_nan_observations\n",
    "from metpy.io import metar"
   ]
  },
  {
   "cell_type": "code",
   "execution_count": 2,
   "id": "48702525",
   "metadata": {},
   "outputs": [],
   "source": [
    "UNIX_TIME = datetime(1970,1,1,0)"
   ]
  },
  {
   "cell_type": "code",
   "execution_count": 3,
   "id": "7e98378a",
   "metadata": {
    "scrolled": true
   },
   "outputs": [
    {
     "name": "stdout",
     "output_type": "stream",
     "text": [
      "8.090439814814815\n"
     ]
    }
   ],
   "source": [
    "#set time to plot\n",
    "start_year  = 2023\n",
    "start_month = 4\n",
    "start_day   = 9\n",
    "start_hour  = 12\n",
    "#start_min   = 0\n",
    "    \n",
    "    \n",
    "#set plot domain\n",
    "lat_min = 33\n",
    "lat_max = 43\n",
    "lon_min = -123\n",
    "lon_max = -113\n",
    "    \n",
    "dt = datetime(start_year,start_month,start_day,start_hour)#,start_min)\n",
    "del_t = datetime.now()-dt\n",
    "del_t_days = del_t.days + (del_t.seconds/60/60/24)\n",
    "print(del_t_days)"
   ]
  },
  {
   "cell_type": "code",
   "execution_count": 4,
   "id": "494319be",
   "metadata": {},
   "outputs": [
    {
     "name": "stdout",
     "output_type": "stream",
     "text": [
      "https://madis-data.cprk.ncep.noaa.gov/madisPublic1/data/archive/2023/04/09/point/raob/netcdf/20230409_1200.gz\n"
     ]
    }
   ],
   "source": [
    "#get the data\n",
    "import requests\n",
    "import gzip\n",
    "import shutil\n",
    "\n",
    "#download and extract the data\n",
    "\n",
    "if del_t_days>3:\n",
    "    base_url = 'https://madis-data.cprk.ncep.noaa.gov/madisPublic1/data/archive/'\n",
    "    url = f'{base_url}{dt:%Y}/{dt:%m}/{dt:%d}/point/raob/netcdf/{dt:%Y%m%d_%H%M}.gz'\n",
    "    print(url)\n",
    "    r = requests.get(url,allow_redirects=True)\n",
    "    open('temp.nc.gz','wb').write(r.content)\n",
    "    with gzip.open('temp.nc.gz','rb') as f_in:\n",
    "        with open('temp.nc','wb') as f_out:\n",
    "            shutil.copyfileobj(f_in,f_out)\n",
    "    data=Dataset('temp.nc','r')\n",
    "\n",
    "else:\n",
    "    base_url = 'https://madis-data.cprk.ncep.noaa.gov/madisPublic1/data/point/raob/netcdf/'\n",
    "    url = f'{base_url}{dt:%Y%m%d_%H%M}.gz'\n",
    "    print(url)\n",
    "    r = requests.get(url,allow_redirects=True)\n",
    "    open('temp.nc.gz','wb').write(r.content)\n",
    "    with gzip.open('temp.nc.gz','rb') as f_in:\n",
    "        with open('temp.nc','wb') as f_out:\n",
    "            shutil.copyfileobj(f_in,f_out)\n",
    "    data=Dataset('temp.nc','r')"
   ]
  },
  {
   "cell_type": "code",
   "execution_count": 149,
   "id": "4cc6702a",
   "metadata": {},
   "outputs": [
    {
     "name": "stdout",
     "output_type": "stream",
     "text": [
      "402\n",
      "                  lon        lat  pressure  temperature  dwptdp          u  \\\n",
      "id   pres                                                                    \n",
      "8209 3     -51.070000   0.050000     850.0    17.000000     NaN  -4.020057   \n",
      "8202 3     -55.980000   2.480000     850.0    18.600006     NaN  -5.218597   \n",
      "     3     -60.680000   2.840000     850.0    18.399994     NaN  -6.528446   \n",
      "8022 3     -74.150002   4.700000     850.0          NaN     NaN        NaN   \n",
      "MCSP 3     -81.699997  12.580000     850.0    16.600006     NaN -10.411713   \n",
      "...               ...        ...       ...          ...     ...        ...   \n",
      "CYUX 7     -81.250000  68.779999     850.0   -14.100006     NaN  -1.308071   \n",
      "PABR 3    -156.789993  71.279999     850.0   -22.899994     NaN  -6.528446   \n",
      "CYRB 7     -94.970001  74.699997     850.0   -17.299988     NaN   7.746772   \n",
      "CWEU 10    -85.930000  80.000000     850.0   -24.099991     NaN  -2.546663   \n",
      "CYLT 10    -62.349998  82.500000     850.0   -17.899994     NaN  -2.341381   \n",
      "\n",
      "                  v  \n",
      "id   pres            \n",
      "8209 3     0.708845  \n",
      "8202 3     3.012959  \n",
      "     3     4.571268  \n",
      "8022 3          NaN  \n",
      "MCSP 3    -3.789554  \n",
      "...             ...  \n",
      "CYUX 7     4.881784  \n",
      "PABR 3     4.571268  \n",
      "CYRB 7    -9.232240  \n",
      "CWEU 10   -5.461336  \n",
      "CYLT 10    3.343838  \n",
      "\n",
      "[118 rows x 7 columns]\n"
     ]
    },
    {
     "name": "stderr",
     "output_type": "stream",
     "text": [
      "/tmp/ipykernel_3034822/4200025580.py:26: DeprecationWarning: tostring() is deprecated. Use tobytes() instead.\n",
      "  name = [i.tostring().decode()[:4] for i in name]\n"
     ]
    }
   ],
   "source": [
    "time = [UNIX_TIME + timedelta(seconds=float(t)) for t in data['synTime']]\n",
    "lat = data['staLat'][:]\n",
    "lat = lat.filled(np.nan)\n",
    "lon = data['staLon'][:]\n",
    "lon = lon.filled(np.nan)\n",
    "pres = data['prMan'][:]\n",
    "pres = pres.filled(np.nan)\n",
    "hght = data['htMan'][:]\n",
    "hght = hght.filled(np.nan)\n",
    "temp = data['tpMan'][:]\n",
    "temp = temp.filled(np.nan)\n",
    "temp[temp<100]=np.nan\n",
    "temp = (temp-273.15)\n",
    "dwptdp = data['tdMan'][:]\n",
    "dwptdp = dwptdp.filled(np.nan)\n",
    "dwptdp[dwptdp<100]=np.nan\n",
    "dwptdp = (dwptdp-273.15)\n",
    "wdir = data['wdMan'][:]\n",
    "wdir = wdir.filled(np.nan)\n",
    "wdir[wdir<0] = np.nan\n",
    "wspd = data['wsMan'][:]\n",
    "wspd = wspd.filled(np.nan)\n",
    "wspd[wspd>250] = np.nan\n",
    "\n",
    "name = data['staName'][:]\n",
    "name = [i.tostring().decode()[:4] for i in name]\n",
    "u,v = mpcalc.wind_components((wspd*units('m/s')).to('knots'),wdir*units.degree)\n",
    "\n",
    "#u = np.abs(wspd) * np.cos(np.deg2rad(270-wdir))\n",
    "#u[np.abs(u)>250] = np.nan\n",
    "#v = np.abs(wspd) * np.sin(np.deg2rad(270-wdir))\n",
    "#v[np.abs(v)>250] = np.nan\n",
    "\n",
    "#u=u*units['kts']\n",
    "#v=v*units['kts']\n",
    "#print(u)\n",
    "\n",
    "#df = pd.DataFrame(np.array([time[i],name[i],name[i],lon[i],lat[i],u[i],v[i],temp[i],dwptdp[i],pres[i]]),\n",
    "#                      columns = ['time','id','name','lon','lat','u','v','temp','dwptdp','pres'])\n",
    "\n",
    "print(len(name))\n",
    "\n",
    "ds = xr.Dataset(\n",
    "        coords=dict(\n",
    "            id=(['id'],name)\n",
    "            ),\n",
    "        data_vars=dict(\n",
    "            lon=(['id'],lon),\n",
    "            lat=(['id'],lat),\n",
    "            pressure=(['id','pres'],pres),\n",
    "            temperature=(['id','pres'],temp),\n",
    "            dwptdp=(['id','pres'],dwptdp),\n",
    "            u=(['id','pres'],u),\n",
    "            v=(['id','pres'],v)\n",
    "            )\n",
    "    )\n",
    "\n",
    "#convert to pandas dataframe and remove obs with nans for lat/lon\n",
    "df=ds.to_dataframe()\n",
    "df=df[df['lat'].notna()]\n",
    "df=df[df['lon'].notna()]\n"
   ]
  },
  {
   "cell_type": "markdown",
   "id": "be9ce8df",
   "metadata": {},
   "source": [
    "Subset based on vertical level"
   ]
  },
  {
   "cell_type": "code",
   "execution_count": null,
   "id": "e20eb16f",
   "metadata": {},
   "outputs": [],
   "source": []
  }
 ],
 "metadata": {
  "kernelspec": {
   "display_name": "Python 3 (ipykernel)",
   "language": "python",
   "name": "python3"
  },
  "language_info": {
   "codemirror_mode": {
    "name": "ipython",
    "version": 3
   },
   "file_extension": ".py",
   "mimetype": "text/x-python",
   "name": "python",
   "nbconvert_exporter": "python",
   "pygments_lexer": "ipython3",
   "version": "3.9.5"
  }
 },
 "nbformat": 4,
 "nbformat_minor": 5
}
